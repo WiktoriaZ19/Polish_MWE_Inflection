{
 "cells": [
  {
   "cell_type": "code",
   "execution_count": 158,
   "id": "9f92eb30",
   "metadata": {},
   "outputs": [],
   "source": [
    "import pandas as pd"
   ]
  },
  {
   "cell_type": "code",
   "execution_count": 159,
   "id": "63463cb2",
   "metadata": {},
   "outputs": [
    {
     "data": {
      "text/html": [
       "<div>\n",
       "<style scoped>\n",
       "    .dataframe tbody tr th:only-of-type {\n",
       "        vertical-align: middle;\n",
       "    }\n",
       "\n",
       "    .dataframe tbody tr th {\n",
       "        vertical-align: top;\n",
       "    }\n",
       "\n",
       "    .dataframe thead th {\n",
       "        text-align: right;\n",
       "    }\n",
       "</style>\n",
       "<table border=\"1\" class=\"dataframe\">\n",
       "  <thead>\n",
       "    <tr style=\"text-align: right;\">\n",
       "      <th></th>\n",
       "      <th>phrase_id</th>\n",
       "      <th>doc_id</th>\n",
       "      <th>text</th>\n",
       "      <th>lemma</th>\n",
       "    </tr>\n",
       "  </thead>\n",
       "  <tbody>\n",
       "    <tr>\n",
       "      <th>0</th>\n",
       "      <td>31822</td>\n",
       "      <td>99883</td>\n",
       "      <td>Toronto Dominion Centre</td>\n",
       "      <td>Toronto Dominion Centre</td>\n",
       "    </tr>\n",
       "    <tr>\n",
       "      <th>1</th>\n",
       "      <td>40025</td>\n",
       "      <td>99883</td>\n",
       "      <td>Toronto</td>\n",
       "      <td>Toronto</td>\n",
       "    </tr>\n",
       "    <tr>\n",
       "      <th>2</th>\n",
       "      <td>343873</td>\n",
       "      <td>99883</td>\n",
       "      <td>kompleks handlowo-kulturalny</td>\n",
       "      <td>kompleks handlowo-kulturalny</td>\n",
       "    </tr>\n",
       "    <tr>\n",
       "      <th>3</th>\n",
       "      <td>31833</td>\n",
       "      <td>99883</td>\n",
       "      <td>Joe Fafard</td>\n",
       "      <td>Joe Fafard</td>\n",
       "    </tr>\n",
       "    <tr>\n",
       "      <th>4</th>\n",
       "      <td>327365</td>\n",
       "      <td>99883</td>\n",
       "      <td>kanadyjskim</td>\n",
       "      <td>kanadyjski</td>\n",
       "    </tr>\n",
       "  </tbody>\n",
       "</table>\n",
       "</div>"
      ],
      "text/plain": [
       "   phrase_id  doc_id                          text  \\\n",
       "0      31822   99883       Toronto Dominion Centre   \n",
       "1      40025   99883                       Toronto   \n",
       "2     343873   99883  kompleks handlowo-kulturalny   \n",
       "3      31833   99883                    Joe Fafard   \n",
       "4     327365   99883                   kanadyjskim   \n",
       "\n",
       "                          lemma  \n",
       "0       Toronto Dominion Centre  \n",
       "1                       Toronto  \n",
       "2  kompleks handlowo-kulturalny  \n",
       "3                    Joe Fafard  \n",
       "4                    kanadyjski  "
      ]
     },
     "execution_count": 159,
     "metadata": {},
     "output_type": "execute_result"
    }
   ],
   "source": [
    "poleval_df = pd.read_csv(\"poleval2019_task2_training_190221/index.tsv\", sep=\"\\t\", header=None)\n",
    "poleval_df.columns = [\"phrase_id\", \"doc_id\", \"text\", \"lemma\"]\n",
    "poleval_df.head()"
   ]
  },
  {
   "cell_type": "code",
   "execution_count": 160,
   "id": "1cecdd9a",
   "metadata": {},
   "outputs": [
    {
     "data": {
      "text/plain": [
       "(22177, 4)"
      ]
     },
     "execution_count": 160,
     "metadata": {},
     "output_type": "execute_result"
    }
   ],
   "source": [
    "poleval_df.shape"
   ]
  },
  {
   "cell_type": "code",
   "execution_count": 161,
   "id": "68b6457e",
   "metadata": {},
   "outputs": [],
   "source": [
    "poleval_df = poleval_df[poleval_df[\"text\"] != poleval_df[\"lemma\"]]"
   ]
  },
  {
   "cell_type": "code",
   "execution_count": 162,
   "id": "db97f111",
   "metadata": {},
   "outputs": [
    {
     "data": {
      "text/plain": [
       "(10720, 4)"
      ]
     },
     "execution_count": 162,
     "metadata": {},
     "output_type": "execute_result"
    }
   ],
   "source": [
    "poleval_df.shape"
   ]
  },
  {
   "cell_type": "code",
   "execution_count": 163,
   "id": "62410267",
   "metadata": {},
   "outputs": [
    {
     "data": {
      "text/html": [
       "<div>\n",
       "<style scoped>\n",
       "    .dataframe tbody tr th:only-of-type {\n",
       "        vertical-align: middle;\n",
       "    }\n",
       "\n",
       "    .dataframe tbody tr th {\n",
       "        vertical-align: top;\n",
       "    }\n",
       "\n",
       "    .dataframe thead th {\n",
       "        text-align: right;\n",
       "    }\n",
       "</style>\n",
       "<table border=\"1\" class=\"dataframe\">\n",
       "  <thead>\n",
       "    <tr style=\"text-align: right;\">\n",
       "      <th></th>\n",
       "      <th>phrase_id</th>\n",
       "      <th>doc_id</th>\n",
       "      <th>text</th>\n",
       "      <th>lemma</th>\n",
       "    </tr>\n",
       "  </thead>\n",
       "  <tbody>\n",
       "    <tr>\n",
       "      <th>5</th>\n",
       "      <td>343872</td>\n",
       "      <td>99883</td>\n",
       "      <td>Ludwiga Mies van der Rohe</td>\n",
       "      <td>Ludwig Mies van der Rohe</td>\n",
       "    </tr>\n",
       "    <tr>\n",
       "      <th>18</th>\n",
       "      <td>343879</td>\n",
       "      <td>100499</td>\n",
       "      <td>samolotu PZL.23 „Karaś”</td>\n",
       "      <td>samolot PZL.23 „Karaś”</td>\n",
       "    </tr>\n",
       "    <tr>\n",
       "      <th>19</th>\n",
       "      <td>31843</td>\n",
       "      <td>100499</td>\n",
       "      <td>Ministerstwa Komunikacji</td>\n",
       "      <td>Ministerstwo Komunikacji</td>\n",
       "    </tr>\n",
       "    <tr>\n",
       "      <th>22</th>\n",
       "      <td>343880</td>\n",
       "      <td>100499</td>\n",
       "      <td>silnikiem Pratt-Whitney Wasp</td>\n",
       "      <td>silnik Pratt-Whitney Wasp</td>\n",
       "    </tr>\n",
       "    <tr>\n",
       "      <th>28</th>\n",
       "      <td>31839</td>\n",
       "      <td>100499</td>\n",
       "      <td>Stanisława Praussa</td>\n",
       "      <td>Stanisław Prauss</td>\n",
       "    </tr>\n",
       "  </tbody>\n",
       "</table>\n",
       "</div>"
      ],
      "text/plain": [
       "    phrase_id  doc_id                          text                      lemma\n",
       "5      343872   99883     Ludwiga Mies van der Rohe   Ludwig Mies van der Rohe\n",
       "18     343879  100499       samolotu PZL.23 „Karaś”     samolot PZL.23 „Karaś”\n",
       "19      31843  100499      Ministerstwa Komunikacji   Ministerstwo Komunikacji\n",
       "22     343880  100499  silnikiem Pratt-Whitney Wasp  silnik Pratt-Whitney Wasp\n",
       "28      31839  100499            Stanisława Praussa           Stanisław Prauss"
      ]
     },
     "execution_count": 163,
     "metadata": {},
     "output_type": "execute_result"
    }
   ],
   "source": [
    "mwe_df = poleval_df[poleval_df[\"text\"].str.split().str.len() > 1]\n",
    "mwe_df.head()"
   ]
  },
  {
   "cell_type": "code",
   "execution_count": 164,
   "id": "9b618efa",
   "metadata": {},
   "outputs": [
    {
     "data": {
      "text/plain": [
       "(4783, 4)"
      ]
     },
     "execution_count": 164,
     "metadata": {},
     "output_type": "execute_result"
    }
   ],
   "source": [
    "mwe_df.shape"
   ]
  },
  {
   "cell_type": "code",
   "execution_count": 165,
   "id": "212c1107",
   "metadata": {},
   "outputs": [
    {
     "data": {
      "text/html": [
       "<div>\n",
       "<style scoped>\n",
       "    .dataframe tbody tr th:only-of-type {\n",
       "        vertical-align: middle;\n",
       "    }\n",
       "\n",
       "    .dataframe tbody tr th {\n",
       "        vertical-align: top;\n",
       "    }\n",
       "\n",
       "    .dataframe thead th {\n",
       "        text-align: right;\n",
       "    }\n",
       "</style>\n",
       "<table border=\"1\" class=\"dataframe\">\n",
       "  <thead>\n",
       "    <tr style=\"text-align: right;\">\n",
       "      <th></th>\n",
       "      <th>text</th>\n",
       "      <th>lemma</th>\n",
       "    </tr>\n",
       "  </thead>\n",
       "  <tbody>\n",
       "    <tr>\n",
       "      <th>14383</th>\n",
       "      <td>Specjalnego Ośrodka Szkolno-Wychowawczego</td>\n",
       "      <td>Specjalny Ośrodek Szkolno-Wychowawczy</td>\n",
       "    </tr>\n",
       "    <tr>\n",
       "      <th>14373</th>\n",
       "      <td>Zespołu Szkół Ogólnokształcących</td>\n",
       "      <td>Zespół Szkół Ogólnokształcących</td>\n",
       "    </tr>\n",
       "    <tr>\n",
       "      <th>16352</th>\n",
       "      <td>Best Malla</td>\n",
       "      <td>Best Mall</td>\n",
       "    </tr>\n",
       "    <tr>\n",
       "      <th>10215</th>\n",
       "      <td>Morza Bałtyckiego</td>\n",
       "      <td>Morze Bałtyckie</td>\n",
       "    </tr>\n",
       "    <tr>\n",
       "      <th>15883</th>\n",
       "      <td>Ministra Obrony Narodowej</td>\n",
       "      <td>Minister Obrony Narodowej</td>\n",
       "    </tr>\n",
       "    <tr>\n",
       "      <th>4334</th>\n",
       "      <td>Pucharu Polski</td>\n",
       "      <td>Puchar Polski</td>\n",
       "    </tr>\n",
       "    <tr>\n",
       "      <th>12583</th>\n",
       "      <td>Rady Miasta</td>\n",
       "      <td>Rada Miasta</td>\n",
       "    </tr>\n",
       "    <tr>\n",
       "      <th>3998</th>\n",
       "      <td>Gienricha Jagody</td>\n",
       "      <td>Gienricha Jagoda</td>\n",
       "    </tr>\n",
       "    <tr>\n",
       "      <th>16116</th>\n",
       "      <td>Placu Zbawiciela</td>\n",
       "      <td>Plac Zbawiciela</td>\n",
       "    </tr>\n",
       "    <tr>\n",
       "      <th>19567</th>\n",
       "      <td>Fundacji Wikimedia</td>\n",
       "      <td>Fundacja Wikimedia</td>\n",
       "    </tr>\n",
       "  </tbody>\n",
       "</table>\n",
       "</div>"
      ],
      "text/plain": [
       "                                            text  \\\n",
       "14383  Specjalnego Ośrodka Szkolno-Wychowawczego   \n",
       "14373           Zespołu Szkół Ogólnokształcących   \n",
       "16352                                 Best Malla   \n",
       "10215                          Morza Bałtyckiego   \n",
       "15883                  Ministra Obrony Narodowej   \n",
       "4334                              Pucharu Polski   \n",
       "12583                                Rady Miasta   \n",
       "3998                            Gienricha Jagody   \n",
       "16116                           Placu Zbawiciela   \n",
       "19567                         Fundacji Wikimedia   \n",
       "\n",
       "                                       lemma  \n",
       "14383  Specjalny Ośrodek Szkolno-Wychowawczy  \n",
       "14373        Zespół Szkół Ogólnokształcących  \n",
       "16352                              Best Mall  \n",
       "10215                        Morze Bałtyckie  \n",
       "15883              Minister Obrony Narodowej  \n",
       "4334                           Puchar Polski  \n",
       "12583                            Rada Miasta  \n",
       "3998                        Gienricha Jagoda  \n",
       "16116                        Plac Zbawiciela  \n",
       "19567                     Fundacja Wikimedia  "
      ]
     },
     "execution_count": 165,
     "metadata": {},
     "output_type": "execute_result"
    }
   ],
   "source": [
    "mwe_df[['text', 'lemma']].sample(10)"
   ]
  },
  {
   "cell_type": "code",
   "execution_count": 166,
   "id": "7bef92f1",
   "metadata": {},
   "outputs": [
    {
     "data": {
      "text/plain": [
       "phrase_id    0\n",
       "doc_id       0\n",
       "text         0\n",
       "lemma        1\n",
       "dtype: int64"
      ]
     },
     "execution_count": 166,
     "metadata": {},
     "output_type": "execute_result"
    }
   ],
   "source": [
    "mwe_df.isna().sum()"
   ]
  },
  {
   "cell_type": "code",
   "execution_count": 167,
   "id": "898e608d",
   "metadata": {},
   "outputs": [
    {
     "data": {
      "text/html": [
       "<div>\n",
       "<style scoped>\n",
       "    .dataframe tbody tr th:only-of-type {\n",
       "        vertical-align: middle;\n",
       "    }\n",
       "\n",
       "    .dataframe tbody tr th {\n",
       "        vertical-align: top;\n",
       "    }\n",
       "\n",
       "    .dataframe thead th {\n",
       "        text-align: right;\n",
       "    }\n",
       "</style>\n",
       "<table border=\"1\" class=\"dataframe\">\n",
       "  <thead>\n",
       "    <tr style=\"text-align: right;\">\n",
       "      <th></th>\n",
       "      <th>phrase_id</th>\n",
       "      <th>doc_id</th>\n",
       "      <th>text</th>\n",
       "      <th>lemma</th>\n",
       "    </tr>\n",
       "  </thead>\n",
       "  <tbody>\n",
       "    <tr>\n",
       "      <th>3332</th>\n",
       "      <td>307628</td>\n",
       "      <td>101286</td>\n",
       "      <td>San Diego Rockets</td>\n",
       "      <td>NaN</td>\n",
       "    </tr>\n",
       "  </tbody>\n",
       "</table>\n",
       "</div>"
      ],
      "text/plain": [
       "      phrase_id  doc_id               text lemma\n",
       "3332     307628  101286  San Diego Rockets   NaN"
      ]
     },
     "execution_count": 167,
     "metadata": {},
     "output_type": "execute_result"
    }
   ],
   "source": [
    "mwe_df[mwe_df[\"lemma\"].isna()]"
   ]
  },
  {
   "cell_type": "code",
   "execution_count": 168,
   "id": "3535dbdc",
   "metadata": {},
   "outputs": [],
   "source": [
    "mwe_df = mwe_df.dropna()"
   ]
  },
  {
   "cell_type": "code",
   "execution_count": 170,
   "id": "6f51ed04",
   "metadata": {},
   "outputs": [],
   "source": [
    "# # For every word in the text, I check if it is the same as in the lemma.\n",
    "# # If it is not, I check form of the word using Morfeusz2.\n",
    "\n",
    "from morfeusz2 import Morfeusz\n",
    "morfeusz = Morfeusz()  \n",
    "\n",
    "def get_case_and_number(phrase, lemma):\n",
    "    \"\"\"\n",
    "    Function to get case and number of a word using Morfeusz2.\n",
    "    :param phrase: str, phrase to be analyzed\n",
    "    :return: str, number and case of the word\n",
    "    \"\"\"\n",
    "    words = phrase.split()\n",
    "    lemmas = lemma.split() if lemma else []\n",
    "    for i, word in enumerate(words):\n",
    "\n",
    "        if i < len(lemmas) and word == lemma.split()[i]:\n",
    "            continue\n",
    "\n",
    "        analyses = morfeusz.analyse(word)\n",
    "\n",
    "        for _, _, interpretations in analyses:\n",
    "            tag = interpretations[2].split(\":\")\n",
    "            if tag[0] in [\"subst\", \"depr\"]:\n",
    "                return tag[1], tag[2] #number, case\n",
    "\n"
   ]
  },
  {
   "cell_type": "code",
   "execution_count": 171,
   "id": "7bee98d2",
   "metadata": {},
   "outputs": [
    {
     "data": {
      "text/plain": [
       "('sg', 'gen')"
      ]
     },
     "execution_count": 171,
     "metadata": {},
     "output_type": "execute_result"
    }
   ],
   "source": [
    "get_case_and_number(\"Wizowego Systemu Informacyjnego\", \"Wizowy System Informacyjny\")"
   ]
  },
  {
   "cell_type": "code",
   "execution_count": 172,
   "id": "ac714a18",
   "metadata": {},
   "outputs": [],
   "source": [
    "mwe_df[[\"number\", \"case\"]] = mwe_df.apply(lambda row: pd.Series(get_case_and_number(row[\"text\"], row[\"lemma\"])), axis=1)"
   ]
  },
  {
   "cell_type": "code",
   "execution_count": 173,
   "id": "dab11dd0",
   "metadata": {},
   "outputs": [
    {
     "data": {
      "text/html": [
       "<div>\n",
       "<style scoped>\n",
       "    .dataframe tbody tr th:only-of-type {\n",
       "        vertical-align: middle;\n",
       "    }\n",
       "\n",
       "    .dataframe tbody tr th {\n",
       "        vertical-align: top;\n",
       "    }\n",
       "\n",
       "    .dataframe thead th {\n",
       "        text-align: right;\n",
       "    }\n",
       "</style>\n",
       "<table border=\"1\" class=\"dataframe\">\n",
       "  <thead>\n",
       "    <tr style=\"text-align: right;\">\n",
       "      <th></th>\n",
       "      <th>phrase_id</th>\n",
       "      <th>doc_id</th>\n",
       "      <th>text</th>\n",
       "      <th>lemma</th>\n",
       "      <th>number</th>\n",
       "      <th>case</th>\n",
       "    </tr>\n",
       "  </thead>\n",
       "  <tbody>\n",
       "    <tr>\n",
       "      <th>15282</th>\n",
       "      <td>288725</td>\n",
       "      <td>102479</td>\n",
       "      <td>Unii Europejskiej</td>\n",
       "      <td>Unia Europejska</td>\n",
       "      <td>sg</td>\n",
       "      <td>gen</td>\n",
       "    </tr>\n",
       "    <tr>\n",
       "      <th>21599</th>\n",
       "      <td>490565</td>\n",
       "      <td>107342</td>\n",
       "      <td>prezydenta Obamy</td>\n",
       "      <td>prezydent Obama</td>\n",
       "      <td>sg</td>\n",
       "      <td>gen.acc</td>\n",
       "    </tr>\n",
       "    <tr>\n",
       "      <th>5203</th>\n",
       "      <td>56569</td>\n",
       "      <td>101406</td>\n",
       "      <td>12 pułku huzarów</td>\n",
       "      <td>12 pułk huzarów</td>\n",
       "      <td>sg</td>\n",
       "      <td>gen</td>\n",
       "    </tr>\n",
       "    <tr>\n",
       "      <th>14229</th>\n",
       "      <td>338099</td>\n",
       "      <td>102382</td>\n",
       "      <td>Pucharze Polski</td>\n",
       "      <td>Puchar Polski</td>\n",
       "      <td>sg</td>\n",
       "      <td>loc</td>\n",
       "    </tr>\n",
       "    <tr>\n",
       "      <th>14412</th>\n",
       "      <td>484878</td>\n",
       "      <td>102386</td>\n",
       "      <td>Harry’ego Pottera</td>\n",
       "      <td>Harry Potter</td>\n",
       "      <td>sg</td>\n",
       "      <td>gen.acc</td>\n",
       "    </tr>\n",
       "    <tr>\n",
       "      <th>12608</th>\n",
       "      <td>466308</td>\n",
       "      <td>102160</td>\n",
       "      <td>Gminy Lublin</td>\n",
       "      <td>Gmina Lublin</td>\n",
       "      <td>pl</td>\n",
       "      <td>nom.acc.voc</td>\n",
       "    </tr>\n",
       "    <tr>\n",
       "      <th>7706</th>\n",
       "      <td>63446</td>\n",
       "      <td>101599</td>\n",
       "      <td>Robertem Tonnorem</td>\n",
       "      <td>Robert Tonnor</td>\n",
       "      <td>sg</td>\n",
       "      <td>inst</td>\n",
       "    </tr>\n",
       "    <tr>\n",
       "      <th>5173</th>\n",
       "      <td>56534</td>\n",
       "      <td>101405</td>\n",
       "      <td>Osiedle XXV-lecia PRL</td>\n",
       "      <td>osiedle XXV-lecia PRL</td>\n",
       "      <td>sg</td>\n",
       "      <td>nom.acc.voc</td>\n",
       "    </tr>\n",
       "    <tr>\n",
       "      <th>11933</th>\n",
       "      <td>310513</td>\n",
       "      <td>102084</td>\n",
       "      <td>II Regionalnego Konkursu Fotograficznego \" Ozo...</td>\n",
       "      <td>II Regionalny Konkurs Fotograficzny \" Ozorków ...</td>\n",
       "      <td>sg</td>\n",
       "      <td>gen</td>\n",
       "    </tr>\n",
       "    <tr>\n",
       "      <th>7549</th>\n",
       "      <td>54523</td>\n",
       "      <td>101590</td>\n",
       "      <td>Szkole Weterynaryjnej</td>\n",
       "      <td>Szkoła Weterynaryjna</td>\n",
       "      <td>sg</td>\n",
       "      <td>dat.loc</td>\n",
       "    </tr>\n",
       "  </tbody>\n",
       "</table>\n",
       "</div>"
      ],
      "text/plain": [
       "       phrase_id  doc_id                                               text  \\\n",
       "15282     288725  102479                                  Unii Europejskiej   \n",
       "21599     490565  107342                                   prezydenta Obamy   \n",
       "5203       56569  101406                                   12 pułku huzarów   \n",
       "14229     338099  102382                                    Pucharze Polski   \n",
       "14412     484878  102386                                  Harry’ego Pottera   \n",
       "12608     466308  102160                                       Gminy Lublin   \n",
       "7706       63446  101599                                  Robertem Tonnorem   \n",
       "5173       56534  101405                              Osiedle XXV-lecia PRL   \n",
       "11933     310513  102084  II Regionalnego Konkursu Fotograficznego \" Ozo...   \n",
       "7549       54523  101590                              Szkole Weterynaryjnej   \n",
       "\n",
       "                                                   lemma number         case  \n",
       "15282                                    Unia Europejska     sg          gen  \n",
       "21599                                    prezydent Obama     sg      gen.acc  \n",
       "5203                                     12 pułk huzarów     sg          gen  \n",
       "14229                                      Puchar Polski     sg          loc  \n",
       "14412                                       Harry Potter     sg      gen.acc  \n",
       "12608                                       Gmina Lublin     pl  nom.acc.voc  \n",
       "7706                                       Robert Tonnor     sg         inst  \n",
       "5173                               osiedle XXV-lecia PRL     sg  nom.acc.voc  \n",
       "11933  II Regionalny Konkurs Fotograficzny \" Ozorków ...     sg          gen  \n",
       "7549                                Szkoła Weterynaryjna     sg      dat.loc  "
      ]
     },
     "execution_count": 173,
     "metadata": {},
     "output_type": "execute_result"
    }
   ],
   "source": [
    "mwe_df.sample(10)"
   ]
  },
  {
   "cell_type": "code",
   "execution_count": 174,
   "id": "8203dfc9",
   "metadata": {},
   "outputs": [
    {
     "data": {
      "text/plain": [
       "phrase_id      0\n",
       "doc_id         0\n",
       "text           0\n",
       "lemma          0\n",
       "number       300\n",
       "case         300\n",
       "dtype: int64"
      ]
     },
     "execution_count": 174,
     "metadata": {},
     "output_type": "execute_result"
    }
   ],
   "source": [
    "mwe_df.isna().sum()"
   ]
  },
  {
   "cell_type": "code",
   "execution_count": 175,
   "id": "83d26343",
   "metadata": {},
   "outputs": [
    {
     "data": {
      "text/html": [
       "<div>\n",
       "<style scoped>\n",
       "    .dataframe tbody tr th:only-of-type {\n",
       "        vertical-align: middle;\n",
       "    }\n",
       "\n",
       "    .dataframe tbody tr th {\n",
       "        vertical-align: top;\n",
       "    }\n",
       "\n",
       "    .dataframe thead th {\n",
       "        text-align: right;\n",
       "    }\n",
       "</style>\n",
       "<table border=\"1\" class=\"dataframe\">\n",
       "  <thead>\n",
       "    <tr style=\"text-align: right;\">\n",
       "      <th></th>\n",
       "      <th>phrase_id</th>\n",
       "      <th>doc_id</th>\n",
       "      <th>text</th>\n",
       "      <th>lemma</th>\n",
       "      <th>number</th>\n",
       "      <th>case</th>\n",
       "    </tr>\n",
       "  </thead>\n",
       "  <tbody>\n",
       "    <tr>\n",
       "      <th>313</th>\n",
       "      <td>32161</td>\n",
       "      <td>100521</td>\n",
       "      <td>Bezkresnego Imperium</td>\n",
       "      <td>Bezkresne Imperium</td>\n",
       "      <td>NaN</td>\n",
       "      <td>NaN</td>\n",
       "    </tr>\n",
       "    <tr>\n",
       "      <th>327</th>\n",
       "      <td>32157</td>\n",
       "      <td>100521</td>\n",
       "      <td>Bezkresnego Imperium</td>\n",
       "      <td>Bezkresne Imperium</td>\n",
       "      <td>NaN</td>\n",
       "      <td>NaN</td>\n",
       "    </tr>\n",
       "    <tr>\n",
       "      <th>401</th>\n",
       "      <td>99725</td>\n",
       "      <td>100524</td>\n",
       "      <td>Dolce &amp; Gabbana</td>\n",
       "      <td>Dolce &amp;amp; Gabbana</td>\n",
       "      <td>NaN</td>\n",
       "      <td>NaN</td>\n",
       "    </tr>\n",
       "    <tr>\n",
       "      <th>423</th>\n",
       "      <td>344047</td>\n",
       "      <td>100525</td>\n",
       "      <td>Johanna Mühlegga</td>\n",
       "      <td>Johann Mühlegga</td>\n",
       "      <td>NaN</td>\n",
       "      <td>NaN</td>\n",
       "    </tr>\n",
       "    <tr>\n",
       "      <th>766</th>\n",
       "      <td>41316</td>\n",
       "      <td>100608</td>\n",
       "      <td>Interdyscyplinarnego Centrum Modelowania Matem...</td>\n",
       "      <td>Interdyscyplinarne Centrum Modelowania Matemat...</td>\n",
       "      <td>NaN</td>\n",
       "      <td>NaN</td>\n",
       "    </tr>\n",
       "    <tr>\n",
       "      <th>...</th>\n",
       "      <td>...</td>\n",
       "      <td>...</td>\n",
       "      <td>...</td>\n",
       "      <td>...</td>\n",
       "      <td>...</td>\n",
       "      <td>...</td>\n",
       "    </tr>\n",
       "    <tr>\n",
       "      <th>21311</th>\n",
       "      <td>490467</td>\n",
       "      <td>107326</td>\n",
       "      <td>Nicolasem Sarkozy</td>\n",
       "      <td>Nicolas Sarkozy</td>\n",
       "      <td>NaN</td>\n",
       "      <td>NaN</td>\n",
       "    </tr>\n",
       "    <tr>\n",
       "      <th>21369</th>\n",
       "      <td>326365</td>\n",
       "      <td>107329</td>\n",
       "      <td>Andry'ego Rajoeliny</td>\n",
       "      <td>Andry Rajoelina</td>\n",
       "      <td>NaN</td>\n",
       "      <td>NaN</td>\n",
       "    </tr>\n",
       "    <tr>\n",
       "      <th>21462</th>\n",
       "      <td>326487</td>\n",
       "      <td>107334</td>\n",
       "      <td>Harrim Ollim</td>\n",
       "      <td>Harri Olli</td>\n",
       "      <td>NaN</td>\n",
       "      <td>NaN</td>\n",
       "    </tr>\n",
       "    <tr>\n",
       "      <th>21869</th>\n",
       "      <td>328869</td>\n",
       "      <td>107355</td>\n",
       "      <td>Powiatowego Centrum Zarządzania Kryzysowego w ...</td>\n",
       "      <td>Powiatowe Centrum Zarządzania Kryzysowego w St...</td>\n",
       "      <td>NaN</td>\n",
       "      <td>NaN</td>\n",
       "    </tr>\n",
       "    <tr>\n",
       "      <th>21982</th>\n",
       "      <td>328925</td>\n",
       "      <td>107357</td>\n",
       "      <td>Szachtiorem Karaganda</td>\n",
       "      <td>Szachtior Karaganda</td>\n",
       "      <td>NaN</td>\n",
       "      <td>NaN</td>\n",
       "    </tr>\n",
       "  </tbody>\n",
       "</table>\n",
       "<p>300 rows × 6 columns</p>\n",
       "</div>"
      ],
      "text/plain": [
       "       phrase_id  doc_id                                               text  \\\n",
       "313        32161  100521                               Bezkresnego Imperium   \n",
       "327        32157  100521                               Bezkresnego Imperium   \n",
       "401        99725  100524                                    Dolce & Gabbana   \n",
       "423       344047  100525                                   Johanna Mühlegga   \n",
       "766        41316  100608  Interdyscyplinarnego Centrum Modelowania Matem...   \n",
       "...          ...     ...                                                ...   \n",
       "21311     490467  107326                                  Nicolasem Sarkozy   \n",
       "21369     326365  107329                                Andry'ego Rajoeliny   \n",
       "21462     326487  107334                                       Harrim Ollim   \n",
       "21869     328869  107355  Powiatowego Centrum Zarządzania Kryzysowego w ...   \n",
       "21982     328925  107357                              Szachtiorem Karaganda   \n",
       "\n",
       "                                                   lemma number case  \n",
       "313                                   Bezkresne Imperium    NaN  NaN  \n",
       "327                                   Bezkresne Imperium    NaN  NaN  \n",
       "401                                  Dolce &amp; Gabbana    NaN  NaN  \n",
       "423                                      Johann Mühlegga    NaN  NaN  \n",
       "766    Interdyscyplinarne Centrum Modelowania Matemat...    NaN  NaN  \n",
       "...                                                  ...    ...  ...  \n",
       "21311                                    Nicolas Sarkozy    NaN  NaN  \n",
       "21369                                    Andry Rajoelina    NaN  NaN  \n",
       "21462                                         Harri Olli    NaN  NaN  \n",
       "21869  Powiatowe Centrum Zarządzania Kryzysowego w St...    NaN  NaN  \n",
       "21982                                Szachtior Karaganda    NaN  NaN  \n",
       "\n",
       "[300 rows x 6 columns]"
      ]
     },
     "execution_count": 175,
     "metadata": {},
     "output_type": "execute_result"
    }
   ],
   "source": [
    "mwe_df[mwe_df[\"number\"].isna()]"
   ]
  },
  {
   "cell_type": "code",
   "execution_count": 177,
   "id": "24c36c00",
   "metadata": {},
   "outputs": [
    {
     "data": {
      "text/plain": [
       "3649"
      ]
     },
     "execution_count": 177,
     "metadata": {},
     "output_type": "execute_result"
    }
   ],
   "source": [
    "len(mwe_df[\"lemma\"].unique())"
   ]
  },
  {
   "cell_type": "code",
   "execution_count": null,
   "id": "c08c416e",
   "metadata": {},
   "outputs": [],
   "source": []
  }
 ],
 "metadata": {
  "kernelspec": {
   "display_name": "Python 3",
   "language": "python",
   "name": "python3"
  },
  "language_info": {
   "codemirror_mode": {
    "name": "ipython",
    "version": 3
   },
   "file_extension": ".py",
   "mimetype": "text/x-python",
   "name": "python",
   "nbconvert_exporter": "python",
   "pygments_lexer": "ipython3",
   "version": "3.11.8"
  }
 },
 "nbformat": 4,
 "nbformat_minor": 5
}
