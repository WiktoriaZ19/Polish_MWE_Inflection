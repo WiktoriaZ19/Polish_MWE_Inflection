{
 "cells": [
  {
   "cell_type": "code",
   "execution_count": null,
   "id": "9f92eb30",
   "metadata": {},
   "outputs": [],
   "source": [
    "import pandas as pd"
   ]
  },
  {
   "cell_type": "code",
   "execution_count": 108,
   "id": "63463cb2",
   "metadata": {},
   "outputs": [
    {
     "data": {
      "text/html": [
       "<div>\n",
       "<style scoped>\n",
       "    .dataframe tbody tr th:only-of-type {\n",
       "        vertical-align: middle;\n",
       "    }\n",
       "\n",
       "    .dataframe tbody tr th {\n",
       "        vertical-align: top;\n",
       "    }\n",
       "\n",
       "    .dataframe thead th {\n",
       "        text-align: right;\n",
       "    }\n",
       "</style>\n",
       "<table border=\"1\" class=\"dataframe\">\n",
       "  <thead>\n",
       "    <tr style=\"text-align: right;\">\n",
       "      <th></th>\n",
       "      <th>phrase_id</th>\n",
       "      <th>doc_id</th>\n",
       "      <th>text</th>\n",
       "      <th>lemma</th>\n",
       "    </tr>\n",
       "  </thead>\n",
       "  <tbody>\n",
       "    <tr>\n",
       "      <th>0</th>\n",
       "      <td>31822</td>\n",
       "      <td>99883</td>\n",
       "      <td>Toronto Dominion Centre</td>\n",
       "      <td>Toronto Dominion Centre</td>\n",
       "    </tr>\n",
       "    <tr>\n",
       "      <th>1</th>\n",
       "      <td>40025</td>\n",
       "      <td>99883</td>\n",
       "      <td>Toronto</td>\n",
       "      <td>Toronto</td>\n",
       "    </tr>\n",
       "    <tr>\n",
       "      <th>2</th>\n",
       "      <td>343873</td>\n",
       "      <td>99883</td>\n",
       "      <td>kompleks handlowo-kulturalny</td>\n",
       "      <td>kompleks handlowo-kulturalny</td>\n",
       "    </tr>\n",
       "    <tr>\n",
       "      <th>3</th>\n",
       "      <td>31833</td>\n",
       "      <td>99883</td>\n",
       "      <td>Joe Fafard</td>\n",
       "      <td>Joe Fafard</td>\n",
       "    </tr>\n",
       "    <tr>\n",
       "      <th>4</th>\n",
       "      <td>327365</td>\n",
       "      <td>99883</td>\n",
       "      <td>kanadyjskim</td>\n",
       "      <td>kanadyjski</td>\n",
       "    </tr>\n",
       "  </tbody>\n",
       "</table>\n",
       "</div>"
      ],
      "text/plain": [
       "   phrase_id  doc_id                          text  \\\n",
       "0      31822   99883       Toronto Dominion Centre   \n",
       "1      40025   99883                       Toronto   \n",
       "2     343873   99883  kompleks handlowo-kulturalny   \n",
       "3      31833   99883                    Joe Fafard   \n",
       "4     327365   99883                   kanadyjskim   \n",
       "\n",
       "                          lemma  \n",
       "0       Toronto Dominion Centre  \n",
       "1                       Toronto  \n",
       "2  kompleks handlowo-kulturalny  \n",
       "3                    Joe Fafard  \n",
       "4                    kanadyjski  "
      ]
     },
     "execution_count": 108,
     "metadata": {},
     "output_type": "execute_result"
    }
   ],
   "source": [
    "poleval_df = pd.read_csv(\"poleval2019_task2_training_190221/index.tsv\", sep=\"\\t\", header=None)\n",
    "poleval_df.columns = [\"phrase_id\", \"doc_id\", \"text\", \"lemma\"]\n",
    "poleval_df.head()"
   ]
  },
  {
   "cell_type": "code",
   "execution_count": 109,
   "id": "1cecdd9a",
   "metadata": {},
   "outputs": [
    {
     "name": "stdout",
     "output_type": "stream",
     "text": [
      "Shape of the original Poleval 2019 dataset: (22177, 4)\n"
     ]
    }
   ],
   "source": [
    "print(f\"Shape of the original Poleval 2019 dataset: {poleval_df.shape}\")"
   ]
  },
  {
   "cell_type": "code",
   "execution_count": 110,
   "id": "68b6457e",
   "metadata": {},
   "outputs": [],
   "source": [
    "poleval_df = poleval_df[poleval_df[\"text\"] != poleval_df[\"lemma\"]]"
   ]
  },
  {
   "cell_type": "code",
   "execution_count": 111,
   "id": "db97f111",
   "metadata": {},
   "outputs": [
    {
     "name": "stdout",
     "output_type": "stream",
     "text": [
      "Shape of the Poleval 2019 dataset (only inflected expressions): (10720, 4)\n"
     ]
    }
   ],
   "source": [
    "print(f\"Shape of the Poleval 2019 dataset (only inflected expressions): {poleval_df.shape}\")"
   ]
  },
  {
   "cell_type": "code",
   "execution_count": 112,
   "id": "62410267",
   "metadata": {},
   "outputs": [
    {
     "data": {
      "text/html": [
       "<div>\n",
       "<style scoped>\n",
       "    .dataframe tbody tr th:only-of-type {\n",
       "        vertical-align: middle;\n",
       "    }\n",
       "\n",
       "    .dataframe tbody tr th {\n",
       "        vertical-align: top;\n",
       "    }\n",
       "\n",
       "    .dataframe thead th {\n",
       "        text-align: right;\n",
       "    }\n",
       "</style>\n",
       "<table border=\"1\" class=\"dataframe\">\n",
       "  <thead>\n",
       "    <tr style=\"text-align: right;\">\n",
       "      <th></th>\n",
       "      <th>phrase_id</th>\n",
       "      <th>doc_id</th>\n",
       "      <th>text</th>\n",
       "      <th>lemma</th>\n",
       "    </tr>\n",
       "  </thead>\n",
       "  <tbody>\n",
       "    <tr>\n",
       "      <th>5</th>\n",
       "      <td>343872</td>\n",
       "      <td>99883</td>\n",
       "      <td>Ludwiga Mies van der Rohe</td>\n",
       "      <td>Ludwig Mies van der Rohe</td>\n",
       "    </tr>\n",
       "    <tr>\n",
       "      <th>18</th>\n",
       "      <td>343879</td>\n",
       "      <td>100499</td>\n",
       "      <td>samolotu PZL.23 „Karaś”</td>\n",
       "      <td>samolot PZL.23 „Karaś”</td>\n",
       "    </tr>\n",
       "    <tr>\n",
       "      <th>19</th>\n",
       "      <td>31843</td>\n",
       "      <td>100499</td>\n",
       "      <td>Ministerstwa Komunikacji</td>\n",
       "      <td>Ministerstwo Komunikacji</td>\n",
       "    </tr>\n",
       "    <tr>\n",
       "      <th>22</th>\n",
       "      <td>343880</td>\n",
       "      <td>100499</td>\n",
       "      <td>silnikiem Pratt-Whitney Wasp</td>\n",
       "      <td>silnik Pratt-Whitney Wasp</td>\n",
       "    </tr>\n",
       "    <tr>\n",
       "      <th>28</th>\n",
       "      <td>31839</td>\n",
       "      <td>100499</td>\n",
       "      <td>Stanisława Praussa</td>\n",
       "      <td>Stanisław Prauss</td>\n",
       "    </tr>\n",
       "  </tbody>\n",
       "</table>\n",
       "</div>"
      ],
      "text/plain": [
       "    phrase_id  doc_id                          text                      lemma\n",
       "5      343872   99883     Ludwiga Mies van der Rohe   Ludwig Mies van der Rohe\n",
       "18     343879  100499       samolotu PZL.23 „Karaś”     samolot PZL.23 „Karaś”\n",
       "19      31843  100499      Ministerstwa Komunikacji   Ministerstwo Komunikacji\n",
       "22     343880  100499  silnikiem Pratt-Whitney Wasp  silnik Pratt-Whitney Wasp\n",
       "28      31839  100499            Stanisława Praussa           Stanisław Prauss"
      ]
     },
     "execution_count": 112,
     "metadata": {},
     "output_type": "execute_result"
    }
   ],
   "source": [
    "mwe_df = poleval_df[poleval_df[\"text\"].str.split().str.len() > 1]\n",
    "mwe_df.head()"
   ]
  },
  {
   "cell_type": "code",
   "execution_count": 113,
   "id": "9b618efa",
   "metadata": {},
   "outputs": [
    {
     "name": "stdout",
     "output_type": "stream",
     "text": [
      "Shape of the Poleval 2019 dataset (only inflected multi word expressions): (4783, 4)\n"
     ]
    }
   ],
   "source": [
    "print(f\"Shape of the Poleval 2019 dataset (only inflected multi word expressions): {mwe_df.shape}\")"
   ]
  },
  {
   "cell_type": "code",
   "execution_count": 114,
   "id": "212c1107",
   "metadata": {},
   "outputs": [
    {
     "data": {
      "text/html": [
       "<div>\n",
       "<style scoped>\n",
       "    .dataframe tbody tr th:only-of-type {\n",
       "        vertical-align: middle;\n",
       "    }\n",
       "\n",
       "    .dataframe tbody tr th {\n",
       "        vertical-align: top;\n",
       "    }\n",
       "\n",
       "    .dataframe thead th {\n",
       "        text-align: right;\n",
       "    }\n",
       "</style>\n",
       "<table border=\"1\" class=\"dataframe\">\n",
       "  <thead>\n",
       "    <tr style=\"text-align: right;\">\n",
       "      <th></th>\n",
       "      <th>text</th>\n",
       "      <th>lemma</th>\n",
       "    </tr>\n",
       "  </thead>\n",
       "  <tbody>\n",
       "    <tr>\n",
       "      <th>3874</th>\n",
       "      <td>województwie małopolskim</td>\n",
       "      <td>województwo małopolskie</td>\n",
       "    </tr>\n",
       "    <tr>\n",
       "      <th>14546</th>\n",
       "      <td>Wielkiej Orkiestry</td>\n",
       "      <td>Wielka Orkiestra</td>\n",
       "    </tr>\n",
       "    <tr>\n",
       "      <th>2020</th>\n",
       "      <td>buddyzmie tybetańskim</td>\n",
       "      <td>buddyz tybetański</td>\n",
       "    </tr>\n",
       "    <tr>\n",
       "      <th>21843</th>\n",
       "      <td>Państwowej Straży Pożarnej</td>\n",
       "      <td>Państwowa Straż Pożarna</td>\n",
       "    </tr>\n",
       "    <tr>\n",
       "      <th>15326</th>\n",
       "      <td>XXII Otwartych Halowych Mistrzostwach Łodzi i Regionu Łódzkiego TKKF Golden Cup 2007</td>\n",
       "      <td>XXII Otwarte Halowe Mistrzostwa Łodzi i Regionu Łódzkiego TKKF Golden Cup 2007</td>\n",
       "    </tr>\n",
       "    <tr>\n",
       "      <th>12447</th>\n",
       "      <td>Jaskini Mroźnej</td>\n",
       "      <td>Jaskinia Mroźna</td>\n",
       "    </tr>\n",
       "    <tr>\n",
       "      <th>6838</th>\n",
       "      <td>III Światowym Festiwalu Młodzieży i Studentów w Budapeszcie</td>\n",
       "      <td>III Światowy Festiwal Młodzieży i Studentów w Budapeszcie</td>\n",
       "    </tr>\n",
       "    <tr>\n",
       "      <th>8070</th>\n",
       "      <td>akcji „Burza”</td>\n",
       "      <td>akcja „Burza”</td>\n",
       "    </tr>\n",
       "    <tr>\n",
       "      <th>8105</th>\n",
       "      <td>drugiej wojny światowej</td>\n",
       "      <td>druga wojna światowa</td>\n",
       "    </tr>\n",
       "    <tr>\n",
       "      <th>10335</th>\n",
       "      <td>ochronie środowiska</td>\n",
       "      <td>ochrona środowiska</td>\n",
       "    </tr>\n",
       "  </tbody>\n",
       "</table>\n",
       "</div>"
      ],
      "text/plain": [
       "                                                                                       text  \\\n",
       "3874                                                               województwie małopolskim   \n",
       "14546                                                                    Wielkiej Orkiestry   \n",
       "2020                                                                  buddyzmie tybetańskim   \n",
       "21843                                                            Państwowej Straży Pożarnej   \n",
       "15326  XXII Otwartych Halowych Mistrzostwach Łodzi i Regionu Łódzkiego TKKF Golden Cup 2007   \n",
       "12447                                                                       Jaskini Mroźnej   \n",
       "6838                            III Światowym Festiwalu Młodzieży i Studentów w Budapeszcie   \n",
       "8070                                                                          akcji „Burza”   \n",
       "8105                                                                drugiej wojny światowej   \n",
       "10335                                                                   ochronie środowiska   \n",
       "\n",
       "                                                                                lemma  \n",
       "3874                                                          województwo małopolskie  \n",
       "14546                                                                Wielka Orkiestra  \n",
       "2020                                                                buddyz tybetański  \n",
       "21843                                                         Państwowa Straż Pożarna  \n",
       "15326  XXII Otwarte Halowe Mistrzostwa Łodzi i Regionu Łódzkiego TKKF Golden Cup 2007  \n",
       "12447                                                                 Jaskinia Mroźna  \n",
       "6838                        III Światowy Festiwal Młodzieży i Studentów w Budapeszcie  \n",
       "8070                                                                    akcja „Burza”  \n",
       "8105                                                             druga wojna światowa  \n",
       "10335                                                              ochrona środowiska  "
      ]
     },
     "execution_count": 114,
     "metadata": {},
     "output_type": "execute_result"
    }
   ],
   "source": [
    "mwe_df[['text', 'lemma']].sample(10)"
   ]
  },
  {
   "cell_type": "code",
   "execution_count": 115,
   "id": "7bef92f1",
   "metadata": {},
   "outputs": [
    {
     "data": {
      "text/plain": [
       "phrase_id    0\n",
       "doc_id       0\n",
       "text         0\n",
       "lemma        1\n",
       "dtype: int64"
      ]
     },
     "execution_count": 115,
     "metadata": {},
     "output_type": "execute_result"
    }
   ],
   "source": [
    "mwe_df.isna().sum()"
   ]
  },
  {
   "cell_type": "code",
   "execution_count": 116,
   "id": "898e608d",
   "metadata": {},
   "outputs": [
    {
     "data": {
      "text/html": [
       "<div>\n",
       "<style scoped>\n",
       "    .dataframe tbody tr th:only-of-type {\n",
       "        vertical-align: middle;\n",
       "    }\n",
       "\n",
       "    .dataframe tbody tr th {\n",
       "        vertical-align: top;\n",
       "    }\n",
       "\n",
       "    .dataframe thead th {\n",
       "        text-align: right;\n",
       "    }\n",
       "</style>\n",
       "<table border=\"1\" class=\"dataframe\">\n",
       "  <thead>\n",
       "    <tr style=\"text-align: right;\">\n",
       "      <th></th>\n",
       "      <th>phrase_id</th>\n",
       "      <th>doc_id</th>\n",
       "      <th>text</th>\n",
       "      <th>lemma</th>\n",
       "    </tr>\n",
       "  </thead>\n",
       "  <tbody>\n",
       "    <tr>\n",
       "      <th>3332</th>\n",
       "      <td>307628</td>\n",
       "      <td>101286</td>\n",
       "      <td>San Diego Rockets</td>\n",
       "      <td>NaN</td>\n",
       "    </tr>\n",
       "  </tbody>\n",
       "</table>\n",
       "</div>"
      ],
      "text/plain": [
       "      phrase_id  doc_id               text lemma\n",
       "3332     307628  101286  San Diego Rockets   NaN"
      ]
     },
     "execution_count": 116,
     "metadata": {},
     "output_type": "execute_result"
    }
   ],
   "source": [
    "mwe_df[mwe_df[\"lemma\"].isna()]"
   ]
  },
  {
   "cell_type": "code",
   "execution_count": 117,
   "id": "3535dbdc",
   "metadata": {},
   "outputs": [],
   "source": [
    "# I can drop it because it's not a polish MWE\n",
    "mwe_df = mwe_df.dropna()"
   ]
  },
  {
   "cell_type": "code",
   "execution_count": 118,
   "id": "8203dfc9",
   "metadata": {},
   "outputs": [
    {
     "data": {
      "text/plain": [
       "phrase_id    0\n",
       "doc_id       0\n",
       "text         0\n",
       "lemma        0\n",
       "dtype: int64"
      ]
     },
     "execution_count": 118,
     "metadata": {},
     "output_type": "execute_result"
    }
   ],
   "source": [
    "mwe_df.isna().sum()"
   ]
  },
  {
   "cell_type": "code",
   "execution_count": 119,
   "id": "24c36c00",
   "metadata": {},
   "outputs": [
    {
     "data": {
      "text/plain": [
       "3649"
      ]
     },
     "execution_count": 119,
     "metadata": {},
     "output_type": "execute_result"
    }
   ],
   "source": [
    "len(mwe_df[\"lemma\"].unique())"
   ]
  },
  {
   "cell_type": "code",
   "execution_count": null,
   "id": "c454c0e0",
   "metadata": {},
   "outputs": [],
   "source": []
  },
  {
   "cell_type": "code",
   "execution_count": 120,
   "id": "c08c416e",
   "metadata": {},
   "outputs": [
    {
     "data": {
      "text/html": [
       "<div>\n",
       "<style scoped>\n",
       "    .dataframe tbody tr th:only-of-type {\n",
       "        vertical-align: middle;\n",
       "    }\n",
       "\n",
       "    .dataframe tbody tr th {\n",
       "        vertical-align: top;\n",
       "    }\n",
       "\n",
       "    .dataframe thead th {\n",
       "        text-align: right;\n",
       "    }\n",
       "</style>\n",
       "<table border=\"1\" class=\"dataframe\">\n",
       "  <thead>\n",
       "    <tr style=\"text-align: right;\">\n",
       "      <th></th>\n",
       "      <th>phrase_id</th>\n",
       "      <th>doc_id</th>\n",
       "      <th>text</th>\n",
       "      <th>lemma</th>\n",
       "    </tr>\n",
       "  </thead>\n",
       "  <tbody>\n",
       "    <tr>\n",
       "      <th>401</th>\n",
       "      <td>99725</td>\n",
       "      <td>100524</td>\n",
       "      <td>Dolce &amp; Gabbana</td>\n",
       "      <td>Dolce &amp;amp; Gabbana</td>\n",
       "    </tr>\n",
       "  </tbody>\n",
       "</table>\n",
       "</div>"
      ],
      "text/plain": [
       "     phrase_id  doc_id             text                lemma\n",
       "401      99725  100524  Dolce & Gabbana  Dolce &amp; Gabbana"
      ]
     },
     "execution_count": 120,
     "metadata": {},
     "output_type": "execute_result"
    }
   ],
   "source": [
    "mwe_df[mwe_df[\"text\"] == \"Dolce & Gabbana\"]"
   ]
  },
  {
   "cell_type": "code",
   "execution_count": 121,
   "id": "c85b089e",
   "metadata": {},
   "outputs": [
    {
     "data": {
      "text/html": [
       "<div>\n",
       "<style scoped>\n",
       "    .dataframe tbody tr th:only-of-type {\n",
       "        vertical-align: middle;\n",
       "    }\n",
       "\n",
       "    .dataframe tbody tr th {\n",
       "        vertical-align: top;\n",
       "    }\n",
       "\n",
       "    .dataframe thead th {\n",
       "        text-align: right;\n",
       "    }\n",
       "</style>\n",
       "<table border=\"1\" class=\"dataframe\">\n",
       "  <thead>\n",
       "    <tr style=\"text-align: right;\">\n",
       "      <th></th>\n",
       "      <th>phrase_id</th>\n",
       "      <th>doc_id</th>\n",
       "      <th>text</th>\n",
       "      <th>lemma</th>\n",
       "    </tr>\n",
       "  </thead>\n",
       "  <tbody>\n",
       "    <tr>\n",
       "      <th>1830</th>\n",
       "      <td>65875</td>\n",
       "      <td>101200</td>\n",
       "      <td>Lublin R-VIII a</td>\n",
       "      <td>Lublin R-VIII</td>\n",
       "    </tr>\n",
       "  </tbody>\n",
       "</table>\n",
       "</div>"
      ],
      "text/plain": [
       "      phrase_id  doc_id             text          lemma\n",
       "1830      65875  101200  Lublin R-VIII a  Lublin R-VIII"
      ]
     },
     "execution_count": 121,
     "metadata": {},
     "output_type": "execute_result"
    }
   ],
   "source": [
    "mwe_df[mwe_df[\"text\"] == \"Lublin R-VIII a\"]"
   ]
  },
  {
   "cell_type": "code",
   "execution_count": 122,
   "id": "4e15a091",
   "metadata": {},
   "outputs": [
    {
     "data": {
      "text/html": [
       "<div>\n",
       "<style scoped>\n",
       "    .dataframe tbody tr th:only-of-type {\n",
       "        vertical-align: middle;\n",
       "    }\n",
       "\n",
       "    .dataframe tbody tr th {\n",
       "        vertical-align: top;\n",
       "    }\n",
       "\n",
       "    .dataframe thead th {\n",
       "        text-align: right;\n",
       "    }\n",
       "</style>\n",
       "<table border=\"1\" class=\"dataframe\">\n",
       "  <thead>\n",
       "    <tr style=\"text-align: right;\">\n",
       "      <th></th>\n",
       "      <th>phrase_id</th>\n",
       "      <th>doc_id</th>\n",
       "      <th>text</th>\n",
       "      <th>lemma</th>\n",
       "    </tr>\n",
       "  </thead>\n",
       "  <tbody>\n",
       "    <tr>\n",
       "      <th>5561</th>\n",
       "      <td>426217</td>\n",
       "      <td>101434</td>\n",
       "      <td>BBC Radio 1's Live Lounge</td>\n",
       "      <td>BBC Radio 1</td>\n",
       "    </tr>\n",
       "  </tbody>\n",
       "</table>\n",
       "</div>"
      ],
      "text/plain": [
       "      phrase_id  doc_id                       text        lemma\n",
       "5561     426217  101434  BBC Radio 1's Live Lounge  BBC Radio 1"
      ]
     },
     "execution_count": 122,
     "metadata": {},
     "output_type": "execute_result"
    }
   ],
   "source": [
    "mwe_df[mwe_df[\"text\"] == \"BBC Radio 1's Live Lounge\"]"
   ]
  },
  {
   "cell_type": "code",
   "execution_count": 123,
   "id": "40a61b60",
   "metadata": {},
   "outputs": [
    {
     "data": {
      "text/html": [
       "<div>\n",
       "<style scoped>\n",
       "    .dataframe tbody tr th:only-of-type {\n",
       "        vertical-align: middle;\n",
       "    }\n",
       "\n",
       "    .dataframe tbody tr th {\n",
       "        vertical-align: top;\n",
       "    }\n",
       "\n",
       "    .dataframe thead th {\n",
       "        text-align: right;\n",
       "    }\n",
       "</style>\n",
       "<table border=\"1\" class=\"dataframe\">\n",
       "  <thead>\n",
       "    <tr style=\"text-align: right;\">\n",
       "      <th></th>\n",
       "      <th>phrase_id</th>\n",
       "      <th>doc_id</th>\n",
       "      <th>text</th>\n",
       "      <th>lemma</th>\n",
       "    </tr>\n",
       "  </thead>\n",
       "  <tbody>\n",
       "    <tr>\n",
       "      <th>12269</th>\n",
       "      <td>468926</td>\n",
       "      <td>102125</td>\n",
       "      <td>Jammin' CRT.5</td>\n",
       "      <td>Jammin</td>\n",
       "    </tr>\n",
       "  </tbody>\n",
       "</table>\n",
       "</div>"
      ],
      "text/plain": [
       "       phrase_id  doc_id           text   lemma\n",
       "12269     468926  102125  Jammin' CRT.5  Jammin"
      ]
     },
     "execution_count": 123,
     "metadata": {},
     "output_type": "execute_result"
    }
   ],
   "source": [
    "mwe_df[mwe_df[\"text\"] == \"Jammin' CRT.5\"]"
   ]
  },
  {
   "cell_type": "code",
   "execution_count": 124,
   "id": "c28a39b3",
   "metadata": {},
   "outputs": [
    {
     "data": {
      "text/html": [
       "<div>\n",
       "<style scoped>\n",
       "    .dataframe tbody tr th:only-of-type {\n",
       "        vertical-align: middle;\n",
       "    }\n",
       "\n",
       "    .dataframe tbody tr th {\n",
       "        vertical-align: top;\n",
       "    }\n",
       "\n",
       "    .dataframe thead th {\n",
       "        text-align: right;\n",
       "    }\n",
       "</style>\n",
       "<table border=\"1\" class=\"dataframe\">\n",
       "  <thead>\n",
       "    <tr style=\"text-align: right;\">\n",
       "      <th></th>\n",
       "      <th>phrase_id</th>\n",
       "      <th>doc_id</th>\n",
       "      <th>text</th>\n",
       "      <th>lemma</th>\n",
       "    </tr>\n",
       "  </thead>\n",
       "  <tbody>\n",
       "    <tr>\n",
       "      <th>15591</th>\n",
       "      <td>469441</td>\n",
       "      <td>102506</td>\n",
       "      <td>Traxxas Rustler XL-1 '09</td>\n",
       "      <td>Traxxas Rustler XL-1</td>\n",
       "    </tr>\n",
       "  </tbody>\n",
       "</table>\n",
       "</div>"
      ],
      "text/plain": [
       "       phrase_id  doc_id                      text                 lemma\n",
       "15591     469441  102506  Traxxas Rustler XL-1 '09  Traxxas Rustler XL-1"
      ]
     },
     "execution_count": 124,
     "metadata": {},
     "output_type": "execute_result"
    }
   ],
   "source": [
    "mwe_df[mwe_df[\"text\"] == \"Traxxas Rustler XL-1 '09\"]\n"
   ]
  },
  {
   "cell_type": "code",
   "execution_count": 125,
   "id": "1d147bc7",
   "metadata": {},
   "outputs": [
    {
     "data": {
      "text/html": [
       "<div>\n",
       "<style scoped>\n",
       "    .dataframe tbody tr th:only-of-type {\n",
       "        vertical-align: middle;\n",
       "    }\n",
       "\n",
       "    .dataframe tbody tr th {\n",
       "        vertical-align: top;\n",
       "    }\n",
       "\n",
       "    .dataframe thead th {\n",
       "        text-align: right;\n",
       "    }\n",
       "</style>\n",
       "<table border=\"1\" class=\"dataframe\">\n",
       "  <thead>\n",
       "    <tr style=\"text-align: right;\">\n",
       "      <th></th>\n",
       "      <th>phrase_id</th>\n",
       "      <th>doc_id</th>\n",
       "      <th>text</th>\n",
       "      <th>lemma</th>\n",
       "    </tr>\n",
       "  </thead>\n",
       "  <tbody>\n",
       "    <tr>\n",
       "      <th>16120</th>\n",
       "      <td>350246</td>\n",
       "      <td>102673</td>\n",
       "      <td>Żerań F S O</td>\n",
       "      <td>Żerań FSO</td>\n",
       "    </tr>\n",
       "  </tbody>\n",
       "</table>\n",
       "</div>"
      ],
      "text/plain": [
       "       phrase_id  doc_id         text      lemma\n",
       "16120     350246  102673  Żerań F S O  Żerań FSO"
      ]
     },
     "execution_count": 125,
     "metadata": {},
     "output_type": "execute_result"
    }
   ],
   "source": [
    "mwe_df[mwe_df[\"text\"] == \"Żerań F S O\"]\n"
   ]
  },
  {
   "cell_type": "code",
   "execution_count": 126,
   "id": "c967782c",
   "metadata": {},
   "outputs": [],
   "source": [
    "mwe_df.loc[mwe_df[\"text\"] == \"Żerań F S O\", \"text\"] = \"Żerań FSO\""
   ]
  },
  {
   "cell_type": "code",
   "execution_count": 127,
   "id": "e3a72549",
   "metadata": {},
   "outputs": [],
   "source": [
    "mwe_df = mwe_df[mwe_df[\"text\"] != \"S K M\"]\n",
    "mwe_df = mwe_df[mwe_df[\"text\"] != \"R K S\"]"
   ]
  },
  {
   "cell_type": "code",
   "execution_count": 128,
   "id": "de7e8f51",
   "metadata": {},
   "outputs": [
    {
     "data": {
      "text/html": [
       "<div>\n",
       "<style scoped>\n",
       "    .dataframe tbody tr th:only-of-type {\n",
       "        vertical-align: middle;\n",
       "    }\n",
       "\n",
       "    .dataframe tbody tr th {\n",
       "        vertical-align: top;\n",
       "    }\n",
       "\n",
       "    .dataframe thead th {\n",
       "        text-align: right;\n",
       "    }\n",
       "</style>\n",
       "<table border=\"1\" class=\"dataframe\">\n",
       "  <thead>\n",
       "    <tr style=\"text-align: right;\">\n",
       "      <th></th>\n",
       "      <th>phrase_id</th>\n",
       "      <th>doc_id</th>\n",
       "      <th>text</th>\n",
       "      <th>lemma</th>\n",
       "    </tr>\n",
       "  </thead>\n",
       "  <tbody>\n",
       "    <tr>\n",
       "      <th>18833</th>\n",
       "      <td>481079</td>\n",
       "      <td>103921</td>\n",
       "      <td>átlátszó (</td>\n",
       "      <td>átlátszó</td>\n",
       "    </tr>\n",
       "  </tbody>\n",
       "</table>\n",
       "</div>"
      ],
      "text/plain": [
       "       phrase_id  doc_id        text     lemma\n",
       "18833     481079  103921  átlátszó (  átlátszó"
      ]
     },
     "execution_count": 128,
     "metadata": {},
     "output_type": "execute_result"
    }
   ],
   "source": [
    "mwe_df[mwe_df[\"text\"] == \"átlátszó (\"]"
   ]
  },
  {
   "cell_type": "code",
   "execution_count": 129,
   "id": "2571db89",
   "metadata": {},
   "outputs": [
    {
     "data": {
      "text/html": [
       "<div>\n",
       "<style scoped>\n",
       "    .dataframe tbody tr th:only-of-type {\n",
       "        vertical-align: middle;\n",
       "    }\n",
       "\n",
       "    .dataframe tbody tr th {\n",
       "        vertical-align: top;\n",
       "    }\n",
       "\n",
       "    .dataframe thead th {\n",
       "        text-align: right;\n",
       "    }\n",
       "</style>\n",
       "<table border=\"1\" class=\"dataframe\">\n",
       "  <thead>\n",
       "    <tr style=\"text-align: right;\">\n",
       "      <th></th>\n",
       "      <th>phrase_id</th>\n",
       "      <th>doc_id</th>\n",
       "      <th>text</th>\n",
       "      <th>lemma</th>\n",
       "    </tr>\n",
       "  </thead>\n",
       "  <tbody>\n",
       "    <tr>\n",
       "      <th>12540</th>\n",
       "      <td>79818</td>\n",
       "      <td>102157</td>\n",
       "      <td>Społecznej Rady Konsultacyjnej ds. aktualizacji „Strategii Rozwoju Bydgoszczy do 2015 roku”</td>\n",
       "      <td>Społeczna Rada Konsultacyjna ds. aktualizacji„Strategii Rozwoju Bydgoszczy do 2015 roku</td>\n",
       "    </tr>\n",
       "  </tbody>\n",
       "</table>\n",
       "</div>"
      ],
      "text/plain": [
       "       phrase_id  doc_id  \\\n",
       "12540      79818  102157   \n",
       "\n",
       "                                                                                              text  \\\n",
       "12540  Społecznej Rady Konsultacyjnej ds. aktualizacji „Strategii Rozwoju Bydgoszczy do 2015 roku”   \n",
       "\n",
       "                                                                                         lemma  \n",
       "12540  Społeczna Rada Konsultacyjna ds. aktualizacji„Strategii Rozwoju Bydgoszczy do 2015 roku  "
      ]
     },
     "execution_count": 129,
     "metadata": {},
     "output_type": "execute_result"
    }
   ],
   "source": [
    "mwe_df[mwe_df[\"text\"] == \"Społecznej Rady Konsultacyjnej ds. aktualizacji „Strategii Rozwoju Bydgoszczy do 2015 roku”\"]"
   ]
  },
  {
   "cell_type": "code",
   "execution_count": 130,
   "id": "626ddb99",
   "metadata": {},
   "outputs": [],
   "source": [
    "mwe_df.loc[mwe_df[\"text\"] == 'Społecznej Rady Konsultacyjnej ds. aktualizacji „Strategii Rozwoju Bydgoszczy do 2015 roku”', \"lemma\"] = 'Społeczna Rada Konsultacyjna ds. aktualizacji „Strategii Rozwoju Bydgoszczy do 2015 roku\"'"
   ]
  },
  {
   "cell_type": "code",
   "execution_count": 131,
   "id": "a8193893",
   "metadata": {},
   "outputs": [
    {
     "data": {
      "text/html": [
       "<div>\n",
       "<style scoped>\n",
       "    .dataframe tbody tr th:only-of-type {\n",
       "        vertical-align: middle;\n",
       "    }\n",
       "\n",
       "    .dataframe tbody tr th {\n",
       "        vertical-align: top;\n",
       "    }\n",
       "\n",
       "    .dataframe thead th {\n",
       "        text-align: right;\n",
       "    }\n",
       "</style>\n",
       "<table border=\"1\" class=\"dataframe\">\n",
       "  <thead>\n",
       "    <tr style=\"text-align: right;\">\n",
       "      <th></th>\n",
       "      <th>phrase_id</th>\n",
       "      <th>doc_id</th>\n",
       "      <th>text</th>\n",
       "      <th>lemma</th>\n",
       "    </tr>\n",
       "  </thead>\n",
       "  <tbody>\n",
       "    <tr>\n",
       "      <th>15959</th>\n",
       "      <td>71729</td>\n",
       "      <td>102602</td>\n",
       "      <td>Fundacji Ośrodka \" Karta \"</td>\n",
       "      <td>Fundacja Ośrodka \"Karta \"</td>\n",
       "    </tr>\n",
       "  </tbody>\n",
       "</table>\n",
       "</div>"
      ],
      "text/plain": [
       "       phrase_id  doc_id                        text  \\\n",
       "15959      71729  102602  Fundacji Ośrodka \" Karta \"   \n",
       "\n",
       "                           lemma  \n",
       "15959  Fundacja Ośrodka \"Karta \"  "
      ]
     },
     "execution_count": 131,
     "metadata": {},
     "output_type": "execute_result"
    }
   ],
   "source": [
    "mwe_df[mwe_df[\"text\"].str.contains(\"Fundacji Ośrodka\")]"
   ]
  },
  {
   "cell_type": "code",
   "execution_count": 132,
   "id": "c5f32819",
   "metadata": {},
   "outputs": [],
   "source": [
    "mwe_df.loc[mwe_df[\"text\"] == 'Fundacji Ośrodka \" Karta \"', [\"text\", \"lemma\"]] = ['Fundacji Ośrodka \"Karta\"', 'Fundacja Ośrodka \"Karta\"']"
   ]
  },
  {
   "cell_type": "code",
   "execution_count": 133,
   "id": "4cbd3762",
   "metadata": {},
   "outputs": [
    {
     "data": {
      "text/html": [
       "<div>\n",
       "<style scoped>\n",
       "    .dataframe tbody tr th:only-of-type {\n",
       "        vertical-align: middle;\n",
       "    }\n",
       "\n",
       "    .dataframe tbody tr th {\n",
       "        vertical-align: top;\n",
       "    }\n",
       "\n",
       "    .dataframe thead th {\n",
       "        text-align: right;\n",
       "    }\n",
       "</style>\n",
       "<table border=\"1\" class=\"dataframe\">\n",
       "  <thead>\n",
       "    <tr style=\"text-align: right;\">\n",
       "      <th></th>\n",
       "      <th>phrase_id</th>\n",
       "      <th>doc_id</th>\n",
       "      <th>text</th>\n",
       "      <th>lemma</th>\n",
       "    </tr>\n",
       "  </thead>\n",
       "  <tbody>\n",
       "    <tr>\n",
       "      <th>16262</th>\n",
       "      <td>474289</td>\n",
       "      <td>102694</td>\n",
       "      <td>Dworca FILLER Centralnego</td>\n",
       "      <td>Dworzec Centralny</td>\n",
       "    </tr>\n",
       "    <tr>\n",
       "      <th>16274</th>\n",
       "      <td>350524</td>\n",
       "      <td>102696</td>\n",
       "      <td>Dworzec FILLER Śródmieście</td>\n",
       "      <td>Dworzec Śródmieście</td>\n",
       "    </tr>\n",
       "  </tbody>\n",
       "</table>\n",
       "</div>"
      ],
      "text/plain": [
       "       phrase_id  doc_id                        text                lemma\n",
       "16262     474289  102694   Dworca FILLER Centralnego    Dworzec Centralny\n",
       "16274     350524  102696  Dworzec FILLER Śródmieście  Dworzec Śródmieście"
      ]
     },
     "execution_count": 133,
     "metadata": {},
     "output_type": "execute_result"
    }
   ],
   "source": [
    "mwe_df[mwe_df[\"text\"].str.contains(\"FILLER\")] # error during creating dataset"
   ]
  },
  {
   "cell_type": "code",
   "execution_count": 134,
   "id": "acba8946",
   "metadata": {},
   "outputs": [],
   "source": [
    "mwe_df.loc[mwe_df[\"text\"] == 'Dworca FILLER Centralnego', \"text\"] = 'Dworca Centralnego'\n",
    "mwe_df.loc[mwe_df[\"text\"] == 'Dworzec FILLER Śródmieście', \"text\"] = 'Dworzec Śródmieście'"
   ]
  },
  {
   "cell_type": "code",
   "execution_count": 135,
   "id": "66e5ec38",
   "metadata": {},
   "outputs": [
    {
     "data": {
      "text/html": [
       "<div>\n",
       "<style scoped>\n",
       "    .dataframe tbody tr th:only-of-type {\n",
       "        vertical-align: middle;\n",
       "    }\n",
       "\n",
       "    .dataframe tbody tr th {\n",
       "        vertical-align: top;\n",
       "    }\n",
       "\n",
       "    .dataframe thead th {\n",
       "        text-align: right;\n",
       "    }\n",
       "</style>\n",
       "<table border=\"1\" class=\"dataframe\">\n",
       "  <thead>\n",
       "    <tr style=\"text-align: right;\">\n",
       "      <th></th>\n",
       "      <th>phrase_id</th>\n",
       "      <th>doc_id</th>\n",
       "      <th>text</th>\n",
       "      <th>lemma</th>\n",
       "    </tr>\n",
       "  </thead>\n",
       "  <tbody>\n",
       "    <tr>\n",
       "      <th>3021</th>\n",
       "      <td>50764</td>\n",
       "      <td>101263</td>\n",
       "      <td>Jan Herburt (Arłamowski</td>\n",
       "      <td>Jan Herburt (Arłamowski)</td>\n",
       "    </tr>\n",
       "  </tbody>\n",
       "</table>\n",
       "</div>"
      ],
      "text/plain": [
       "      phrase_id  doc_id                     text                     lemma\n",
       "3021      50764  101263  Jan Herburt (Arłamowski  Jan Herburt (Arłamowski)"
      ]
     },
     "execution_count": 135,
     "metadata": {},
     "output_type": "execute_result"
    }
   ],
   "source": [
    "mwe_df[mwe_df[\"text\"].str.contains(\"Herburt\")]"
   ]
  },
  {
   "cell_type": "code",
   "execution_count": 136,
   "id": "7252f70f",
   "metadata": {},
   "outputs": [],
   "source": [
    "mwe_df.drop(mwe_df[mwe_df[\"text\"].isin([\n",
    "    \"Dolce & Gabbana\", # not a polish MWE\n",
    "    \"Lublin R-VIII a\", # ???\n",
    "    \"BBC Radio 1's Live Lounge\", # not a polish MWE\n",
    "    \"Jammin' CRT.5\", # not a polish MWE\n",
    "    \"Traxxas Rustler XL-1 '09\", # not a polish MWE\n",
    "    \"átlátszó (\" # not a polish MWE\n",
    "])].index, inplace=True)"
   ]
  },
  {
   "cell_type": "code",
   "execution_count": null,
   "id": "b6829cdb",
   "metadata": {},
   "outputs": [],
   "source": []
  },
  {
   "cell_type": "code",
   "execution_count": 137,
   "id": "9e9c6d97",
   "metadata": {},
   "outputs": [],
   "source": [
    "from morfeusz2 import Morfeusz\n",
    "morfeusz = Morfeusz()  \n",
    "\n",
    "def get_case_and_number(phrase, lemma):\n",
    "    \"\"\"\n",
    "    Function to get case and number of a word using Morfeusz2.\n",
    "    :param phrase: str, phrase to be analyzed\n",
    "    :param lemma: str, lemma of the phrase\n",
    "    :return: str, number and case of the word\n",
    "    \"\"\"\n",
    "    phrase = phrase.replace(\" - \", \"-\")\n",
    "    phrase = phrase.replace(\"___\", \"\")\n",
    "\n",
    "    \n",
    "    words = phrase.strip().split()\n",
    "    lemmas = lemma.strip().split() \n",
    "\n",
    "\n",
    "    # possible numbers and cases for the word\n",
    "    number_case = {}\n",
    "    part_of_speech = {}\n",
    "\n",
    "    # returned values\n",
    "    number = None\n",
    "    case = None\n",
    "    relation = None\n",
    "    head = None\n",
    "\n",
    "    for i, word in enumerate(words):\n",
    "        number_case_i = set()\n",
    "        analyses = morfeusz.analyse(word)\n",
    "\n",
    "        for _, _, interpretations in analyses:\n",
    "            tag = interpretations[2].split(\":\")\n",
    "            if len(tag) > 2:\n",
    "                number_i = tag[1]\n",
    "                case_i = tag[2].split('.')\n",
    "\n",
    "                # Morpheu can return more than 1 possibilty of case after the dot so I make  alist of it\n",
    "                for c in case_i:\n",
    "                    number_case_i.add((number_i, c))\n",
    "\n",
    "                part_of_speech[word] = tag[0]\n",
    "\n",
    "        number_case[i] = number_case_i\n",
    "\n",
    "    # check if it is possible to find common number and case for the words in the mwe -> ZWIĄZEK ZGODY\n",
    "    common_cases = set.intersection(*number_case.values())\n",
    "    if len(common_cases)>=1:\n",
    "        # if there is only one common pair(number, case), then it is an agreement relation and the number and case of the expression can be assigned to the whole expression\n",
    "        number, case = list(common_cases)[0]\n",
    "        relation = \"agreement\"\n",
    "\n",
    "        # noun -> HEAD\n",
    "        for i, (word, tag) in enumerate(part_of_speech.items()):\n",
    "            if tag == 'subst':\n",
    "                head = lemmas[i]\n",
    "                break\n",
    "\n",
    "    else:\n",
    "        if [w_i for w_i, l_i in zip(words, lemmas) if w_i == l_i]:\n",
    "            # government relation    \n",
    "            for i, word in enumerate(words):\n",
    "                #print(f\"word: {word}, {i}, {words}, {lemmas}\")\n",
    "                if word == lemmas[i]:\n",
    "                    continue\n",
    "                else: \n",
    "                    if number_case[i]:\n",
    "                        head = lemmas[i]\n",
    "                        number_case_head_list = list(number_case[i])\n",
    "                        #print(f\"head: {head}, number_case_head: {number_case_head}\")\n",
    "                        number = [x[0] for x in number_case_head_list]\n",
    "                        case = [x[1] for x in number_case_head_list]\n",
    "                        relation = \"government\"\n",
    "                        # print(f\"number: {number}, case: {case}\")\n",
    "        \n",
    "    return number, case, relation, head\n",
    "            "
   ]
  },
  {
   "cell_type": "code",
   "execution_count": 138,
   "id": "2c16bc52",
   "metadata": {},
   "outputs": [],
   "source": [
    "mwe_df[[\"number\", \"case\", \"relation\", \"head\"]] = mwe_df.apply(lambda row: pd.Series(get_case_and_number(row[\"text\"], row[\"lemma\"])), axis=1)"
   ]
  },
  {
   "cell_type": "code",
   "execution_count": 139,
   "id": "9dd31b0a",
   "metadata": {},
   "outputs": [
    {
     "data": {
      "text/html": [
       "<div>\n",
       "<style scoped>\n",
       "    .dataframe tbody tr th:only-of-type {\n",
       "        vertical-align: middle;\n",
       "    }\n",
       "\n",
       "    .dataframe tbody tr th {\n",
       "        vertical-align: top;\n",
       "    }\n",
       "\n",
       "    .dataframe thead th {\n",
       "        text-align: right;\n",
       "    }\n",
       "</style>\n",
       "<table border=\"1\" class=\"dataframe\">\n",
       "  <thead>\n",
       "    <tr style=\"text-align: right;\">\n",
       "      <th></th>\n",
       "      <th>phrase_id</th>\n",
       "      <th>doc_id</th>\n",
       "      <th>text</th>\n",
       "      <th>lemma</th>\n",
       "      <th>number</th>\n",
       "      <th>case</th>\n",
       "      <th>relation</th>\n",
       "      <th>head</th>\n",
       "    </tr>\n",
       "  </thead>\n",
       "  <tbody>\n",
       "    <tr>\n",
       "      <th>7641</th>\n",
       "      <td>466794</td>\n",
       "      <td>101594</td>\n",
       "      <td>Radę Ministrów</td>\n",
       "      <td>Rada Ministrów</td>\n",
       "      <td>[sg]</td>\n",
       "      <td>[acc]</td>\n",
       "      <td>government</td>\n",
       "      <td>Rada</td>\n",
       "    </tr>\n",
       "    <tr>\n",
       "      <th>1984</th>\n",
       "      <td>53564</td>\n",
       "      <td>101213</td>\n",
       "      <td>św. Jerzego</td>\n",
       "      <td>św. Jerzy</td>\n",
       "      <td>[sg, sg]</td>\n",
       "      <td>[acc, gen]</td>\n",
       "      <td>government</td>\n",
       "      <td>Jerzy</td>\n",
       "    </tr>\n",
       "    <tr>\n",
       "      <th>7794</th>\n",
       "      <td>63705</td>\n",
       "      <td>101614</td>\n",
       "      <td>Fejdolosa Koryntianina</td>\n",
       "      <td>Fejdolos Koryntianin</td>\n",
       "      <td>None</td>\n",
       "      <td>None</td>\n",
       "      <td>None</td>\n",
       "      <td>None</td>\n",
       "    </tr>\n",
       "    <tr>\n",
       "      <th>6627</th>\n",
       "      <td>428051</td>\n",
       "      <td>101522</td>\n",
       "      <td>rynku pracy</td>\n",
       "      <td>rynek pracy</td>\n",
       "      <td>sg</td>\n",
       "      <td>loc</td>\n",
       "      <td>agreement</td>\n",
       "      <td>rynek</td>\n",
       "    </tr>\n",
       "    <tr>\n",
       "      <th>14841</th>\n",
       "      <td>469119</td>\n",
       "      <td>102428</td>\n",
       "      <td>tygodniku “Polityka”</td>\n",
       "      <td>tygodnik “Polityka”</td>\n",
       "      <td>[sg, sg]</td>\n",
       "      <td>[voc, loc]</td>\n",
       "      <td>government</td>\n",
       "      <td>tygodnik</td>\n",
       "    </tr>\n",
       "    <tr>\n",
       "      <th>6527</th>\n",
       "      <td>427974</td>\n",
       "      <td>101509</td>\n",
       "      <td>społecznej teorii uczenia się</td>\n",
       "      <td>społeczna teoria uczenia się</td>\n",
       "      <td>[sg, pl, sg, sg]</td>\n",
       "      <td>[dat, gen, loc, gen]</td>\n",
       "      <td>government</td>\n",
       "      <td>teoria</td>\n",
       "    </tr>\n",
       "    <tr>\n",
       "      <th>18160</th>\n",
       "      <td>468298</td>\n",
       "      <td>103837</td>\n",
       "      <td>W. Mullera</td>\n",
       "      <td>W. Muller</td>\n",
       "      <td>[sg, sg]</td>\n",
       "      <td>[acc, gen]</td>\n",
       "      <td>government</td>\n",
       "      <td>Muller</td>\n",
       "    </tr>\n",
       "    <tr>\n",
       "      <th>1429</th>\n",
       "      <td>352293</td>\n",
       "      <td>101173</td>\n",
       "      <td>Mistrzostwach Świata w Narciarstwie Klasycznym</td>\n",
       "      <td>Mistrzostwa Świata w Narciarstwie Klasycznym</td>\n",
       "      <td>[pl]</td>\n",
       "      <td>[loc]</td>\n",
       "      <td>government</td>\n",
       "      <td>Mistrzostwa</td>\n",
       "    </tr>\n",
       "    <tr>\n",
       "      <th>12637</th>\n",
       "      <td>466319</td>\n",
       "      <td>102161</td>\n",
       "      <td>województwa mazowieckiego</td>\n",
       "      <td>województwo mazowieckie</td>\n",
       "      <td>sg</td>\n",
       "      <td>gen</td>\n",
       "      <td>agreement</td>\n",
       "      <td>województwo</td>\n",
       "    </tr>\n",
       "    <tr>\n",
       "      <th>16996</th>\n",
       "      <td>467997</td>\n",
       "      <td>103609</td>\n",
       "      <td>Kodeksu handlowego z 1934 r</td>\n",
       "      <td>Kodeks handlowy z 1934 r</td>\n",
       "      <td>[sg, sg]</td>\n",
       "      <td>[acc, gen]</td>\n",
       "      <td>government</td>\n",
       "      <td>handlowy</td>\n",
       "    </tr>\n",
       "  </tbody>\n",
       "</table>\n",
       "</div>"
      ],
      "text/plain": [
       "       phrase_id  doc_id                                            text  \\\n",
       "7641      466794  101594                                  Radę Ministrów   \n",
       "1984       53564  101213                                     św. Jerzego   \n",
       "7794       63705  101614                          Fejdolosa Koryntianina   \n",
       "6627      428051  101522                                     rynku pracy   \n",
       "14841     469119  102428                            tygodniku “Polityka”   \n",
       "6527      427974  101509                   społecznej teorii uczenia się   \n",
       "18160     468298  103837                                      W. Mullera   \n",
       "1429      352293  101173  Mistrzostwach Świata w Narciarstwie Klasycznym   \n",
       "12637     466319  102161                       województwa mazowieckiego   \n",
       "16996     467997  103609                     Kodeksu handlowego z 1934 r   \n",
       "\n",
       "                                              lemma            number  \\\n",
       "7641                                 Rada Ministrów              [sg]   \n",
       "1984                                      św. Jerzy          [sg, sg]   \n",
       "7794                           Fejdolos Koryntianin              None   \n",
       "6627                                    rynek pracy                sg   \n",
       "14841                           tygodnik “Polityka”          [sg, sg]   \n",
       "6527                   społeczna teoria uczenia się  [sg, pl, sg, sg]   \n",
       "18160                                     W. Muller          [sg, sg]   \n",
       "1429   Mistrzostwa Świata w Narciarstwie Klasycznym              [pl]   \n",
       "12637                       województwo mazowieckie                sg   \n",
       "16996                      Kodeks handlowy z 1934 r          [sg, sg]   \n",
       "\n",
       "                       case    relation         head  \n",
       "7641                  [acc]  government         Rada  \n",
       "1984             [acc, gen]  government        Jerzy  \n",
       "7794                   None        None         None  \n",
       "6627                    loc   agreement        rynek  \n",
       "14841            [voc, loc]  government     tygodnik  \n",
       "6527   [dat, gen, loc, gen]  government       teoria  \n",
       "18160            [acc, gen]  government       Muller  \n",
       "1429                  [loc]  government  Mistrzostwa  \n",
       "12637                   gen   agreement  województwo  \n",
       "16996            [acc, gen]  government     handlowy  "
      ]
     },
     "execution_count": 139,
     "metadata": {},
     "output_type": "execute_result"
    }
   ],
   "source": [
    "mwe_df.sample(10)"
   ]
  },
  {
   "cell_type": "code",
   "execution_count": 140,
   "id": "d5dfa1f8",
   "metadata": {},
   "outputs": [
    {
     "data": {
      "text/plain": [
       "phrase_id      0\n",
       "doc_id         0\n",
       "text           0\n",
       "lemma          0\n",
       "number       382\n",
       "case         382\n",
       "relation     382\n",
       "head         463\n",
       "dtype: int64"
      ]
     },
     "execution_count": 140,
     "metadata": {},
     "output_type": "execute_result"
    }
   ],
   "source": [
    "mwe_df.isna().sum()"
   ]
  },
  {
   "cell_type": "code",
   "execution_count": 141,
   "id": "07045b50",
   "metadata": {},
   "outputs": [
    {
     "data": {
      "text/plain": [
       "(4774, 8)"
      ]
     },
     "execution_count": 141,
     "metadata": {},
     "output_type": "execute_result"
    }
   ],
   "source": [
    "mwe_df.shape"
   ]
  },
  {
   "cell_type": "code",
   "execution_count": 142,
   "id": "538a00cb",
   "metadata": {},
   "outputs": [
    {
     "data": {
      "text/html": [
       "<div>\n",
       "<style scoped>\n",
       "    .dataframe tbody tr th:only-of-type {\n",
       "        vertical-align: middle;\n",
       "    }\n",
       "\n",
       "    .dataframe tbody tr th {\n",
       "        vertical-align: top;\n",
       "    }\n",
       "\n",
       "    .dataframe thead th {\n",
       "        text-align: right;\n",
       "    }\n",
       "</style>\n",
       "<table border=\"1\" class=\"dataframe\">\n",
       "  <thead>\n",
       "    <tr style=\"text-align: right;\">\n",
       "      <th></th>\n",
       "      <th>phrase_id</th>\n",
       "      <th>doc_id</th>\n",
       "      <th>text</th>\n",
       "      <th>lemma</th>\n",
       "      <th>number</th>\n",
       "      <th>case</th>\n",
       "      <th>relation</th>\n",
       "      <th>head</th>\n",
       "    </tr>\n",
       "  </thead>\n",
       "  <tbody>\n",
       "    <tr>\n",
       "      <th>58</th>\n",
       "      <td>31877</td>\n",
       "      <td>100502</td>\n",
       "      <td>Carla Gotharda Langhansa</td>\n",
       "      <td>Carl Gothard Langhans</td>\n",
       "      <td>None</td>\n",
       "      <td>None</td>\n",
       "      <td>None</td>\n",
       "      <td>None</td>\n",
       "    </tr>\n",
       "    <tr>\n",
       "      <th>323</th>\n",
       "      <td>32169</td>\n",
       "      <td>100521</td>\n",
       "      <td>Wojen mandaloriańskich</td>\n",
       "      <td>wojny mandaloriańskie</td>\n",
       "      <td>None</td>\n",
       "      <td>None</td>\n",
       "      <td>None</td>\n",
       "      <td>None</td>\n",
       "    </tr>\n",
       "    <tr>\n",
       "      <th>423</th>\n",
       "      <td>344047</td>\n",
       "      <td>100525</td>\n",
       "      <td>Johanna Mühlegga</td>\n",
       "      <td>Johann Mühlegga</td>\n",
       "      <td>None</td>\n",
       "      <td>None</td>\n",
       "      <td>None</td>\n",
       "      <td>None</td>\n",
       "    </tr>\n",
       "    <tr>\n",
       "      <th>452</th>\n",
       "      <td>345762</td>\n",
       "      <td>100527</td>\n",
       "      <td>archipelagu Seszeli</td>\n",
       "      <td>archipelag Seszele</td>\n",
       "      <td>None</td>\n",
       "      <td>None</td>\n",
       "      <td>None</td>\n",
       "      <td>None</td>\n",
       "    </tr>\n",
       "    <tr>\n",
       "      <th>580</th>\n",
       "      <td>32501</td>\n",
       "      <td>100538</td>\n",
       "      <td>Janiną Milejkowską</td>\n",
       "      <td>Janina Milejkowska</td>\n",
       "      <td>None</td>\n",
       "      <td>None</td>\n",
       "      <td>None</td>\n",
       "      <td>None</td>\n",
       "    </tr>\n",
       "    <tr>\n",
       "      <th>...</th>\n",
       "      <td>...</td>\n",
       "      <td>...</td>\n",
       "      <td>...</td>\n",
       "      <td>...</td>\n",
       "      <td>...</td>\n",
       "      <td>...</td>\n",
       "      <td>...</td>\n",
       "      <td>...</td>\n",
       "    </tr>\n",
       "    <tr>\n",
       "      <th>21462</th>\n",
       "      <td>326487</td>\n",
       "      <td>107334</td>\n",
       "      <td>Harrim Ollim</td>\n",
       "      <td>Harri Olli</td>\n",
       "      <td>None</td>\n",
       "      <td>None</td>\n",
       "      <td>None</td>\n",
       "      <td>None</td>\n",
       "    </tr>\n",
       "    <tr>\n",
       "      <th>21466</th>\n",
       "      <td>326488</td>\n",
       "      <td>107334</td>\n",
       "      <td>Simonem Ammannem</td>\n",
       "      <td>Simon Ammann</td>\n",
       "      <td>None</td>\n",
       "      <td>None</td>\n",
       "      <td>None</td>\n",
       "      <td>None</td>\n",
       "    </tr>\n",
       "    <tr>\n",
       "      <th>21574</th>\n",
       "      <td>326940</td>\n",
       "      <td>107340</td>\n",
       "      <td>Nuriego al-Malikiego</td>\n",
       "      <td>Nuri al-Maliki</td>\n",
       "      <td>None</td>\n",
       "      <td>None</td>\n",
       "      <td>None</td>\n",
       "      <td>None</td>\n",
       "    </tr>\n",
       "    <tr>\n",
       "      <th>21599</th>\n",
       "      <td>490565</td>\n",
       "      <td>107342</td>\n",
       "      <td>prezydenta Obamy</td>\n",
       "      <td>prezydent Obama</td>\n",
       "      <td>None</td>\n",
       "      <td>None</td>\n",
       "      <td>None</td>\n",
       "      <td>None</td>\n",
       "    </tr>\n",
       "    <tr>\n",
       "      <th>21982</th>\n",
       "      <td>328925</td>\n",
       "      <td>107357</td>\n",
       "      <td>Szachtiorem Karaganda</td>\n",
       "      <td>Szachtior Karaganda</td>\n",
       "      <td>None</td>\n",
       "      <td>None</td>\n",
       "      <td>None</td>\n",
       "      <td>None</td>\n",
       "    </tr>\n",
       "  </tbody>\n",
       "</table>\n",
       "<p>382 rows × 8 columns</p>\n",
       "</div>"
      ],
      "text/plain": [
       "       phrase_id  doc_id                      text                  lemma  \\\n",
       "58         31877  100502  Carla Gotharda Langhansa  Carl Gothard Langhans   \n",
       "323        32169  100521    Wojen mandaloriańskich  wojny mandaloriańskie   \n",
       "423       344047  100525          Johanna Mühlegga        Johann Mühlegga   \n",
       "452       345762  100527       archipelagu Seszeli     archipelag Seszele   \n",
       "580        32501  100538        Janiną Milejkowską     Janina Milejkowska   \n",
       "...          ...     ...                       ...                    ...   \n",
       "21462     326487  107334              Harrim Ollim             Harri Olli   \n",
       "21466     326488  107334          Simonem Ammannem           Simon Ammann   \n",
       "21574     326940  107340      Nuriego al-Malikiego         Nuri al-Maliki   \n",
       "21599     490565  107342          prezydenta Obamy        prezydent Obama   \n",
       "21982     328925  107357     Szachtiorem Karaganda    Szachtior Karaganda   \n",
       "\n",
       "      number  case relation  head  \n",
       "58      None  None     None  None  \n",
       "323     None  None     None  None  \n",
       "423     None  None     None  None  \n",
       "452     None  None     None  None  \n",
       "580     None  None     None  None  \n",
       "...      ...   ...      ...   ...  \n",
       "21462   None  None     None  None  \n",
       "21466   None  None     None  None  \n",
       "21574   None  None     None  None  \n",
       "21599   None  None     None  None  \n",
       "21982   None  None     None  None  \n",
       "\n",
       "[382 rows x 8 columns]"
      ]
     },
     "execution_count": 142,
     "metadata": {},
     "output_type": "execute_result"
    }
   ],
   "source": [
    "mwe_df[mwe_df[\"case\"].isna()]"
   ]
  },
  {
   "cell_type": "code",
   "execution_count": 144,
   "id": "719955ec",
   "metadata": {},
   "outputs": [
    {
     "data": {
      "text/plain": [
       "[(0,\n",
       "  1,\n",
       "  ('prezydenta',\n",
       "   'prezydent:Sm1',\n",
       "   'subst:sg:gen.acc:m1',\n",
       "   ['nazwa_pospolita'],\n",
       "   [])),\n",
       " (1, 2, ('Obamy', 'Obamy', 'ign', [], []))]"
      ]
     },
     "execution_count": 144,
     "metadata": {},
     "output_type": "execute_result"
    }
   ],
   "source": [
    "morfeusz.analyse(\"prezydenta Obamy\")"
   ]
  },
  {
   "cell_type": "markdown",
   "id": "27376825",
   "metadata": {},
   "source": [
    "Problematic expressions:\n",
    "\n",
    "- \"Międzynarodową Sanghę\" (there's no word \"Sangha\" in Morfeusz)\n",
    "\n",
    "- "
   ]
  }
 ],
 "metadata": {
  "kernelspec": {
   "display_name": "Python 3",
   "language": "python",
   "name": "python3"
  },
  "language_info": {
   "codemirror_mode": {
    "name": "ipython",
    "version": 3
   },
   "file_extension": ".py",
   "mimetype": "text/x-python",
   "name": "python",
   "nbconvert_exporter": "python",
   "pygments_lexer": "ipython3",
   "version": "3.11.8"
  }
 },
 "nbformat": 4,
 "nbformat_minor": 5
}
